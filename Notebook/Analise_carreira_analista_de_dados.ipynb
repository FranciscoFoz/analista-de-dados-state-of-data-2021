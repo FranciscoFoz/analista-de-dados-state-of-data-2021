{
  "nbformat": 4,
  "nbformat_minor": 0,
  "metadata": {
    "colab": {
      "private_outputs": true,
      "provenance": [],
      "authorship_tag": "ABX9TyPTLmMmzNXEBrXpMXD5xUoO",
      "include_colab_link": true
    },
    "kernelspec": {
      "name": "python3",
      "display_name": "Python 3"
    },
    "language_info": {
      "name": "python"
    },
    "gpuClass": "standard"
  },
  "cells": [
    {
      "cell_type": "markdown",
      "metadata": {
        "id": "view-in-github",
        "colab_type": "text"
      },
      "source": [
        "<a href=\"https://colab.research.google.com/github/FranciscoFoz/analista-de-dados-state-of-data-2021/blob/main/Notebook/Analise_carreira_analista_de_dados.ipynb\" target=\"_parent\"><img src=\"https://colab.research.google.com/assets/colab-badge.svg\" alt=\"Open In Colab\"/></a>"
      ]
    },
    {
      "cell_type": "markdown",
      "source": [
        "# <font color= MediumSpringGreen> Análise - Carreira Analista de dados </font>"
      ],
      "metadata": {
        "id": "kfCFP7_BSmbj"
      }
    },
    {
      "cell_type": "markdown",
      "source": [
        "## <font color= MediumSpringGreen> Projeto </font>\n",
        "\n",
        "Como forma de analisar a carreira de \"analista de dados\" irei explorar algumas informações sobre as características destes profissionais, verificando através de tabelas de frequência.\n"
      ],
      "metadata": {
        "id": "qAAK0yI9S_BW"
      }
    },
    {
      "cell_type": "markdown",
      "source": [
        "## <font color= MediumSpringGreen> Importando bibliotecas </font>"
      ],
      "metadata": {
        "id": "m6aXPzkVS8qw"
      }
    },
    {
      "cell_type": "code",
      "source": [
        "!pip install wget\n",
        "import wget\n"
      ],
      "metadata": {
        "id": "xzwwcT29baPh"
      },
      "execution_count": null,
      "outputs": []
    },
    {
      "cell_type": "markdown",
      "source": [
        "Importarei as bibliotecas necessárias, configuradas no \"requirements.txt\" do projeto.\n",
        "\n"
      ],
      "metadata": {
        "id": "yr7VEj2AdIiq"
      }
    },
    {
      "cell_type": "markdown",
      "source": [
        "*   pandas==1.3.5\n",
        "*   plotly==5.5.0\n",
        "\n"
      ],
      "metadata": {
        "id": "A0sEZSP4ddHW"
      }
    },
    {
      "cell_type": "code",
      "source": [
        "wget.download('https://raw.githubusercontent.com/FranciscoFoz/analista-de-dados-state-of-data-2021/main/requirements.txt', 'requirements.txt')\n",
        "\n",
        "!pip install -r requirements.txt\n"
      ],
      "metadata": {
        "id": "L8ddj2IodSIv"
      },
      "execution_count": null,
      "outputs": []
    },
    {
      "cell_type": "code",
      "source": [
        "import pandas as pd\n",
        "import plotly.express as px"
      ],
      "metadata": {
        "id": "S5JR8eXFfaL3"
      },
      "execution_count": null,
      "outputs": []
    },
    {
      "cell_type": "markdown",
      "source": [
        "## <font color= MediumSpringGreen> Importando dados </font>"
      ],
      "metadata": {
        "id": "CNhvukNoTEE2"
      }
    },
    {
      "cell_type": "code",
      "source": [
        "df_state_of_data_2021 = pd.read_csv('https://github.com/FranciscoFoz/analista-de-dados-state-of-data-2021/blob/main/Dados/State%20of%20Data%202021%20-%20Dataset%20-%20Pgina1.csv?raw=true',\n",
        "                                   low_memory=False)\n",
        "\n"
      ],
      "metadata": {
        "id": "DGnQne70TEVc"
      },
      "execution_count": null,
      "outputs": []
    },
    {
      "cell_type": "markdown",
      "source": [
        "## <font color= MediumSpringGreen> Funções </font>"
      ],
      "metadata": {
        "id": "LDPgNJBTfWcE"
      }
    },
    {
      "cell_type": "code",
      "source": [
        "wget.download('https://raw.githubusercontent.com/FranciscoFoz/analista-de-dados-state-of-data-2021/main/funcoes.py', 'funcoes.py')\n"
      ],
      "metadata": {
        "id": "w9t0m34ybfeP"
      },
      "execution_count": null,
      "outputs": []
    },
    {
      "cell_type": "code",
      "source": [
        "import funcoes as f"
      ],
      "metadata": {
        "id": "64IrCTvob-Mu"
      },
      "execution_count": null,
      "outputs": []
    },
    {
      "cell_type": "markdown",
      "source": [
        "## <font color= MediumSpringGreen> Preparação inicial dos dados </font>"
      ],
      "metadata": {
        "id": "WoBfr241Z5FV"
      }
    },
    {
      "cell_type": "markdown",
      "source": [
        "A pesquisa do State of Data abordou diversas perspectivas, por este motivo serão filtrados apenas as informações necessárias para a análise sobre a carreira de analista de dados."
      ],
      "metadata": {
        "id": "gpIrHDGvbAxy"
      }
    },
    {
      "cell_type": "code",
      "source": [
        "# Seleção de colunas necessárias\n",
        "df_state_of_data_2021_filtrado = df_state_of_data_2021.loc[:,[\n",
        "    \"('P2_a ', 'Qual sua situação atual de trabalho?')\",\n",
        "    \"('P2_b ', 'Setor')\",\n",
        "    \"('P2_f ', 'Cargo Atual')\",\n",
        "    \"('P2_g ', 'Nivel')\",\n",
        "    \"('P2_h ', 'Faixa salarial')\",\n",
        "    \"('P2_q ', 'Atualmente qual a sua forma de trabalho?')\",\n",
        "    \"('P2_i ', 'Quanto tempo de experiência na área de dados você tem?')\",\n",
        "    \"('P2_j ', 'Quanto tempo de experiência na área de TI/Engenharia de Software você teve antes de começar a trabalhar na área de dados?')\",\n",
        "    \"('P4_a_a ', 'Mesmo que esse não seja seu cargo formal, você considera que sua atuação no dia a dia, reflete alguma das opções listadas abaixo?')\",\n",
        "    \"('P4_a ', 'Atuacao')\",\n",
        "    \"('P4_b ', 'Quais das fontes de dados listadas você já analisou ou processou no trabalho?')\",\n",
        "    \"('P4_b_a ', 'Dados relacionais (estruturados em bancos SQL)')\",\n",
        "    \"('P4_b_b ', 'Dados armazenados em bancos NoSQL')\",\n",
        "    \"('P4_b_c ', 'Imagens')\",\n",
        "    \"('P4_b_d ', 'Textos/Documentos')\",\n",
        "    \"('P4_b_e ', 'Vídeos')\",\n",
        "    \"('P4_b_f ', 'Áudios')\",\n",
        "    \"('P4_b_g ', 'Planilhas')\",\n",
        "    \"('P4_b_h ', 'Dados georeferenciados')\",\n",
        "    \"('P4_c ', 'Entre as fontes de dados listadas, quais você utiliza na maior parte do tempo?')\",\n",
        "    \"('P4_c_a ', 'Dados relacionais (estruturados em bancos SQL)')\",\n",
        "    \"('P4_c_b ', 'Dados armazenados em bancos NoSQL')\",\n",
        "    \"('P4_c_c ', 'Imagens')\",\n",
        "    \"('P4_c_d ', 'Textos/Documentos')\",\n",
        "    \"('P4_c_e ', 'Vídeos')\",\n",
        "    \"('P4_c_f ', 'Áudios')\",\n",
        "    \"('P4_c_g ', 'Planilhas')\",\n",
        "    \"('P4_c_h ', 'Dados georeferenciados')\",\n",
        "    \"('P4_d ', 'Quais das linguagens listadas abaixo você utiliza no trabalho?')\",\n",
        "    \"('P4_d_a ', 'SQL')\",\n",
        "    \"('P4_d_b ', 'R ')\",\n",
        "    \"('P4_d_c ', 'Python')\",\n",
        "    \"('P4_d_d ', 'C/C++/C#')\",\n",
        "    \"('P4_d_e ', '.NET')\",\n",
        "    \"('P4_d_f ', 'Java')\",\n",
        "    \"('P4_d_g ', 'Julia')\",\n",
        "    \"('P4_d_h ', 'SAS/Stata')\",\n",
        "    \"('P4_d_i ', 'Visual Basic/VBA')\",\n",
        "    \"('P4_d_j ', 'Scala')\",\n",
        "    \"('P4_d_k ', 'Matlab')\",\n",
        "    \"('P4_d_l ', 'PHP')\",\n",
        "    \"('P4_d_m ', 'Javascript')\",\n",
        "    \"('P4_d_n ', 'Não utilizo nenhuma linguagem')\",\n",
        "    \"('P4_e ', 'Entre as linguagens listadas abaixo, qual é a que você mais utiliza no trabalho?')\",\n",
        "    \"('P4_e_a ', 'SQL')\",\n",
        "    \"('P4_e_b ', 'R ')\",\n",
        "    \"('P4_e_c ', 'Python')\",\n",
        "    \"('P4_e_d ', 'C/C++/C#')\",\n",
        "    \"('P4_e_e ', '.NET')\",\n",
        "    \"('P4_e_f ', 'Java')\",\n",
        "    \"('P4_e_g ', 'Julia')\",\n",
        "    \"('P4_e_h ', 'SAS/Stata')\",\n",
        "    \"('P4_e_i ', 'Visual Basic/VBA')\",\n",
        "    \"('P4_e_j ', 'Scala')\",\n",
        "    \"('P4_e_k ', 'Matlab')\",\n",
        "    \"('P4_e_l ', 'PHP')\",\n",
        "    \"('P4_e_m ', 'Javascript')\",\n",
        "    \"('P4_e_n ', 'Não utilizo nenhuma linguagem')\",\n",
        "    \"('P4_f ', 'Quais dos bancos de dados/fontes de dados listados abaixo você utiliza no trabalho?')\",\n",
        "    \"('P4_f_a ', 'MySQL')\",\n",
        "    \"('P4_f_b ', 'Oracle')\",\n",
        "    \"('P4_f_c ', 'SQL SERVER')\",\n",
        "    \"('P4_f_d ', 'SAP')\",\n",
        "    \"('P4_f_e ', 'Amazon Aurora ou RDS')\",\n",
        "    \"('P4_f_f ', 'Amazon DynamoDB')\",\n",
        "    \"('P4_f_g ', 'CoachDB')\",\n",
        "    \"('P4_f_h ', 'Cassandra')\",\n",
        "    \"('P4_f_i ', 'MongoDB')\",\n",
        "    \"('P4_f_j ', 'MariaDB')\",\n",
        "    \"('P4_f_k ', 'Datomic')\",\n",
        "    \"('P4_f_l ', 'S3')\",\n",
        "    \"('P4_f_m ', 'PostgreSQL')\",\n",
        "    \"('P4_f_n ', 'ElasticSearch')\",\n",
        "    \"('P4_f_o ', 'DB2')\",\n",
        "    \"('P4_f_p ', 'Microsoft Access')\",\n",
        "    \"('P4_f_q ', 'SQLite')\",\n",
        "    \"('P4_f_r ', 'Sybase')\",\n",
        "    \"('P4_f_s ', 'Firebase')\",\n",
        "    \"('P4_f_t ', 'Vertica')\",\n",
        "    \"('P4_f_u ', 'Redis')\",\n",
        "    \"('P4_f_v ', 'Neo4J')\",\n",
        "    \"('P4_f_x ', 'Google BigQuery')\",\n",
        "    \"('P4_f_y ', 'Google Firestore')\",\n",
        "    \"('P4_f_z ', 'Amazon Redshift')\",\n",
        "    \"('P4_f_z1 ', 'Amazon Athena')\",\n",
        "    \"('P4_f_z2 ', 'Snowflake')\",\n",
        "    \"('P4_f_z3 ', 'Databricks')\",\n",
        "    \"('P4_f_z4 ', 'HBase')\",\n",
        "    \"('P4_f_z5 ', 'Presto')\",\n",
        "    \"('P4_f_z6 ', 'Splunk')\",\n",
        "    \"('P4_f_z7 ', 'SAP HANA')\",\n",
        "    \"('P4_f_z8 ', 'Hive')\",\n",
        "    \"('P4_f_z9 ', 'Firebird')\",\n",
        "    \"('P4_g ', 'Quais das opções de Cloud listadas abaixo você utiliza no trabalho?')\",\n",
        "    \"('P4_g_a ', 'Amazon Web Services (AWS)')\",\n",
        "    \"('P4_g_b ', 'Google Cloud (GCP)')\",\n",
        "    \"('P4_g_c ', 'Azure (Microsoft)')\",\n",
        "    \"('P4_g_d ', 'Oracle Cloud')\",\n",
        "    \"('P4_g_e ', 'IBM')\",\n",
        "    \"('P4_g_f ', 'Servidores On Premise/Não utilizamos Cloud')\",\n",
        "    \"('P4_g_g ', 'Cloud Própria')\",\n",
        "    \"('P4_h ', 'Quais as Ferramentas de Business Intelligence você utiliza no trabalho?')\",\n",
        "    \"('P4_h_a ', 'Microsoft PowerBI')\",\n",
        "    \"('P4_h_b ', 'Qlik View/Qlik Sense')\",\n",
        "    \"('P4_h_c ', 'Tableau')\",\n",
        "    \"('P4_h_d ', 'Metabase')\",\n",
        "    \"('P4_h_e ', 'Superset')\",\n",
        "    \"('P4_h_f ', 'Redash')\",\n",
        "    \"('P4_h_g ', 'MicroStrategy')\",\n",
        "    \"('P4_h_c ', 'Tableau')\",\n",
        "    \"('P4_h_d ', 'Metabase')\",\n",
        "    \"('P4_h_e ', 'Superset')\",\n",
        "    \"('P4_h_f ', 'Redash')\",\n",
        "    \"('P4_h_g ', 'MicroStrategy')\",\n",
        "    \"('P4_h_h ', 'IBM Analytics/Cognos')\",\n",
        "    \"('P4_h_i ', 'SAP Business Objects')\",\n",
        "    \"('P4_h_j ', 'Oracle Business Intelligence')\",\n",
        "    \"('P4_h_k ', 'Amazon QuickSight')\",\n",
        "    \"('P4_h_l ', 'Salesforce/Einstein Analytics')\",\n",
        "    \"('P4_h_m ', 'Mode')\",\n",
        "    \"('P4_h_n ', 'Alteryx')\",\n",
        "    \"('P4_h_o ', 'Birst')\",\n",
        "    \"('P4_h_p ', 'Looker')\",\n",
        "    \"('P4_h_q ', 'Google Data Studio')\",\n",
        "    \"('P4_h_r ', 'SAS Visual Analytics')\",\n",
        "    \"('P4_h_s ', 'Grafana')\",\n",
        "    \"('P4_h_t ', 'TIBCO Spotfire')\",\n",
        "    \"('P4_h_u ', 'Pentaho')\",\n",
        "    \"('P4_h_v ', 'Fazemos todas as análises utilizando apenas Excel ou planilhas do google')\",\n",
        "    \"('P4_h_x ', 'Não utilizo nenhuma ferramenta de BI no trabalho')\",\n",
        "    \"('P7_a ', 'Quais das opções abaixo fazem parte da sua rotina no trabalho atual com análise de dados?')\",\n",
        "    \"('P7_a_a ', 'Processo e analiso dados utilizando linguagens de programação como Python, R etc.')\",\n",
        "    \"('P7_a_b ', 'Realizo construções de dashboards em ferramentas de BI como PowerBI, Tableau, Looker, Qlik etc.')\",\n",
        "    \"('P7_a_c ', 'Utilizo API's para extrair dados e complementar minhas análises.')\",\n",
        "    \"('P7_a_d ', 'Realizo experimentos e estudos utilizando metodologias estatísticas como teste de hipótese, modelos de regressão etc.')\",\n",
        "    \"('P7_a_e ', 'Desenvolvo/cuido da manutenção de ETL's utilizando tecnologias como Talend, Pentaho, Airflow, Dataflow etc.')\",\n",
        "    \"('P7_a_f ', 'Atuo na modelagem dos dados, com o objetivo de criar conjuntos de dados, Data Warehouses, Data Marts etc.')\",\n",
        "    \"('P7_a_g ', 'Desenvolvo/cuido da manutenção de planilhas para atender as áreas de negócio.')\",\n",
        "    \"('P7_a_h ', 'Utilizo ferramentas avançadas de estatística como SAS')\",\n",
        "    \"('P7_b ', 'Quais as ferramentas/tecnologias de ETL que você utiliza no trabalho como Data Analyst?')\",\n",
        "    \"('P7_b_a ', 'Scripts Python')\",\n",
        "    \"('P7_b_b ', 'SQL & Stored Procedures')\",\n",
        "    \"('P7_b_c ', 'Apache Airflow')\",\n",
        "    \"('P7_b_d ', 'Luigi')\",\n",
        "    \"('P7_b_e ', 'AWS Glue')\",\n",
        "    \"('P7_b_f ', 'Talend')\",\n",
        "    \"('P7_b_g ', 'Stitch')\",\n",
        "    \"('P7_b_h ', 'Fivetran')\",\n",
        "    \"('P7_b_i ', 'Google Dataflow')\",\n",
        "    \"('P7_b_j ', 'Oracle Data Integrator')\",\n",
        "    \"('P7_b_k ', 'IBM DataStage')\",\n",
        "    \"('P7_b_l ', 'SAP BW ETL')\",\n",
        "    \"('P7_b_m ', 'SQL Server Integration Services (SSIS)')\",\n",
        "    \"('P7_b_n ', 'SAS Data Integration')\",\n",
        "    \"('P7_b_o ', 'Qlik Sense')\",\n",
        "    \"('P7_b_p ', 'Knime')\",\n",
        "    \"('P7_b_l ', 'SAP BW ETL')\",\n",
        "    \"('P7_b_m ', 'SQL Server Integration Services (SSIS)')\",\n",
        "    \"('P7_b_n ', 'SAS Data Integration')\",\n",
        "    \"('P7_b_o ', 'Qlik Sense')\",\n",
        "    \"('P7_b_p ', 'Knime')\",\n",
        "    \"('P7_b_q ', 'Não utilizo ferramentas de ETL')\",\n",
        "    \"('P7_c ', 'Sua empresa utiliza alguma das ferramentas listadas para dar mais autonomia em análise de dados para as áreas de negócio?')\",\n",
        "    \"('P7_c_a ', 'Ferramentas de AutoML como H2O.ai, Data Robot, BigML etc.')\",\n",
        "    '(\\'P7_c_b \\', \\'\"\"Point and Click\"\" Analytics como Alteryx, Knime, Rapidminer etc.\\')',\n",
        "    \"('P7_c_c ', 'Product metricts & Insights como Mixpanel, Amplitude, Adobe Analytics.')\",\n",
        "    \"('P7_c_d ', 'Ferramentas de análise dentro de ferramentas de CRM como Salesforce Einstein Anaytics ou Zendesk dashboards.')\",\n",
        "    \"('P7_c_e ', 'Minha empresa não utiliza essas ferramentas.')\",\n",
        "    \"('P7_c_f ', 'Não sei informar.')\",\n",
        "    \"('P7_d ', 'Em qual das opções abaixo você gasta a maior parte do seu tempo de trabalho?')\",\n",
        "    \"('P7_d_a ', 'Processando e analisando dados utilizando linguagens de programação como Python, R etc.')\",\n",
        "    \"('P7_d_b ', 'Realizando construções de dashboards em ferramentas de BI como PowerBI, Tableau, Looker, Qlik etc.')\",\n",
        "    \"('P7_d_c ', 'Utilizando API's para extrair dados e complementar minhas análises.')\",\n",
        "    \"('P7_d_d ', 'Realizando experimentos e estudos utilizando metodologias estatísticas como teste de hipótese, modelos de regressão etc.')\",\n",
        "    \"('P7_d_e ', 'Desenvolvendo/cuidando da manutenção de ETL's utilizando tecnologias como Talend, Pentaho, Airflow, Dataflow etc.')\",\n",
        "    \"('P7_d_f ', 'Atuando na modelagem dos dados, com o objetivo de criar conjuntos de dados, Data Warehouses, Data Marts etc.')\",\n",
        "    \"('P7_d_g ', 'Desenvolvendo/cuidando da manutenção de planilhas do Excel ou Google Sheets para atender as áreas de negócio.')\",\n",
        "    \"('P7_d_h ', 'Utilizando ferramentas avançadas de estatística como SAS, SPSS, Stata etc, para realizar análises.')\"\n",
        "    ]]\n"
      ],
      "metadata": {
        "id": "efFGQT8uZ1b1"
      },
      "execution_count": null,
      "outputs": []
    },
    {
      "cell_type": "markdown",
      "source": [
        "Foram selecionados apenas os participantes da pesquisa que se declararam atuando como Analista de Dados. \n",
        "\n",
        "Foram excluídos os participantes que atuam como estagiários, pois o período de estágio (mesmo que remunerado) ainda é uma fase de maior aprendizado e está atrelada a formação da pessoa. \n",
        "\n",
        "Para fins de entendimento, também foram filtrados os analistas de dados que atuam no Brasil separando dos que atuam no exterior ou para o exterior (como trabalho remoto)."
      ],
      "metadata": {
        "id": "H-ppLGRObXVO"
      }
    },
    {
      "cell_type": "code",
      "source": [
        "#Filtro de cargo \"Analista de dados\"\n",
        "df_analista_dados = df_state_of_data_2021_filtrado[df_state_of_data_2021_filtrado[\"('P2_f ', 'Cargo Atual')\"] == 'Analista de Dados/Data Analyst']\n",
        "\n",
        "# Exluindo estagiário\n",
        "situacao_trabalho = df_analista_dados[\"('P2_a ', 'Qual sua situação atual de trabalho?')\"]\n",
        "df_analista_dados = df_analista_dados.loc[(situacao_trabalho != 'Estagiário')]\n",
        "\n",
        "#Filtrando analistas de dados que trabalham no Brasil\n",
        "df_analista_dados_brasil = df_analista_dados.loc[(situacao_trabalho == 'Empregado (CLT)') | (situacao_trabalho == 'Servidor Público') | (situacao_trabalho == 'Empreendedor ou Empregado (CNPJ)') | (situacao_trabalho == 'Freelancer') ]\n",
        "\n",
        "#Filtrando analistas de dados que trabalham no exterior ou para o exterior\n",
        "df_analista_dados_exterior = df_analista_dados.loc[(situacao_trabalho == 'Vivo fora do Brasil e trabalho para empresa de fora do Brasil') | (situacao_trabalho == 'Vivo no Brasil e trabalho remoto para empresa de fora do Brasil (PJ)')]"
      ],
      "metadata": {
        "id": "95RZmP8VawZM"
      },
      "execution_count": null,
      "outputs": []
    },
    {
      "cell_type": "code",
      "source": [
        "#Alterando nomenclatura da faixa salarial\n",
        "faixa_salarial = {\n",
        "    'de R$ 6.001/mês a R$ 8.000/mês' : 'de 6 à 8 mil reais/mês',\n",
        "    'de R$ 4.001/mês a R$ 6.000/mês' : 'de 4 à 6 mil reais/mês',\n",
        "    'de R$ 8.001/mês a R$ 12.000/mês': 'de 8 à 12 mil reais/mês',\n",
        "    'de R$ 3.001/mês a R$ 4.000/mês': 'de 3 à 4 mil reais/mês',\n",
        "    'de R$ 2.001/mês a R$ 3000/mês': 'de 2 à 3 mil reais/mês',\n",
        "    'de R$ 12.001/mês a R$ 16.000/mês': 'de 12 à 16 mil reais/mês',\n",
        "    'de R$ 1.001/mês a R$ 2.000/mês': 'de 1 à 2 mil reais/mês',\n",
        "    'de R$ 20.001/mês a R$ 25.000/mês':'de 20 à 25 mil reais/mês',\n",
        "    'de R$ 25.001/mês a R$ 30.000/mês': 'de 25 à 30 mil reais/mês',\n",
        "    'de R$ 30.001/mês a R$ 40.000/mês': 'de 30 à 40 mil reais/mês',\n",
        "    'de R$ 16.001/mês a R$ 20.000/mês':'de 16 à 20 mil reais/mês'\n",
        "}\n",
        "\n",
        "df_analista_dados.loc[:,\"('P2_h ', 'Faixa salarial')\"] = df_analista_dados.loc[:,\"('P2_h ', 'Faixa salarial')\"].map(faixa_salarial)\n",
        "  "
      ],
      "metadata": {
        "id": "tjVrcavvig4l"
      },
      "execution_count": null,
      "outputs": []
    },
    {
      "cell_type": "markdown",
      "source": [
        "## <font color= MediumSpringGreen> Análise dos dados </font>"
      ],
      "metadata": {
        "id": "p_c4cEijfHiF"
      }
    },
    {
      "cell_type": "markdown",
      "source": [
        "### <font color= MediumSpringGreen> Total da amostra </font>"
      ],
      "metadata": {
        "id": "FH_vq4lhfgIN"
      }
    },
    {
      "cell_type": "code",
      "source": [
        "quantidade_amostra_total = len(df_analista_dados)\n",
        "quantidade_amostra_brasil = len(df_analista_dados_brasil)\n",
        "quantidade_amostra_exterior = len(df_analista_dados_exterior)\n",
        "\n",
        "print(f'A quantidade da amostra total de analistas de dados que responderam a pesquisa foi de {quantidade_amostra_total}.\\nDesses, {quantidade_amostra_brasil} trabalham no Brasil e {quantidade_amostra_exterior} trabalham para/no exterior.')"
      ],
      "metadata": {
        "id": "T_Grn48hcgj9"
      },
      "execution_count": null,
      "outputs": []
    },
    {
      "cell_type": "markdown",
      "source": [
        "### <font color= MediumSpringGreen> Atuação profissional </font>"
      ],
      "metadata": {
        "id": "yAA9888lfkXT"
      }
    },
    {
      "cell_type": "markdown",
      "source": [
        "A atuação profissional nem sempre correponde a nomenclatura do cargo, existem profissionais que são analistas de dados, mas atuam com engenharia ou ciência de dados. \n",
        "\n",
        "Por este motivo verificarei o percentual da atuação."
      ],
      "metadata": {
        "id": "4k2jIBKxh8qC"
      }
    },
    {
      "cell_type": "code",
      "source": [
        "freq_atuacao = f.tabela_frequencia(df_analista_dados,\"('P4_a ', 'Atuacao')\")\n",
        "freq_atuacao"
      ],
      "metadata": {
        "id": "RqG3yEGTe3Z5"
      },
      "execution_count": null,
      "outputs": []
    },
    {
      "cell_type": "code",
      "source": [
        "f.grafico_barras(freq_atuacao,'Atuação','Percentual de frequência de Atuação','cores_uma_barra',5)"
      ],
      "metadata": {
        "id": "u59RcguzDiA7"
      },
      "execution_count": null,
      "outputs": []
    },
    {
      "cell_type": "markdown",
      "source": [
        "Um fração de 87.3% da amostra atuam de fato com análise de dados.\n",
        "Os demais 12.7%, atuam na prática com outras frentes, como: engenharia de dados e ciência de dados."
      ],
      "metadata": {
        "id": "OyAecWxxie7m"
      }
    },
    {
      "cell_type": "markdown",
      "source": [
        "### <font color= MediumSpringGreen> Analistas de dados </font>"
      ],
      "metadata": {
        "id": "c7_j5WN5i44U"
      }
    },
    {
      "cell_type": "markdown",
      "source": [
        "A partir deste cenário, irei verificar apenas os dados dos profissionais que responderam atuarem de fato com \"Análise de Dados\"."
      ],
      "metadata": {
        "id": "gR83ptX9i8zU"
      }
    },
    {
      "cell_type": "code",
      "source": [
        "df_analista_dados_puro = df_analista_dados[df_analista_dados[\"('P4_a ', 'Atuacao')\"]=='Análise de Dados']\n",
        "quantidade_amostra_real = len(df_analista_dados_puro)\n",
        "print(f'A quantidade da amostra total de analistas de dados (atuando apenas com análise de dados) que responderam a pesquisa foi de {quantidade_amostra_real}.')\n"
      ],
      "metadata": {
        "id": "XGi_4Ah1jLSy"
      },
      "execution_count": null,
      "outputs": []
    },
    {
      "cell_type": "markdown",
      "source": [
        "#### <font color= MediumSpringGreen> Setor </font>"
      ],
      "metadata": {
        "id": "J10bIKSSj3Pv"
      }
    },
    {
      "cell_type": "code",
      "source": [
        "freq_setor = f.tabela_frequencia(df_analista_dados_puro,\"('P2_b ', 'Setor')\")\n",
        "freq_setor"
      ],
      "metadata": {
        "id": "eyasCG3Tj8nV"
      },
      "execution_count": null,
      "outputs": []
    },
    {
      "cell_type": "code",
      "source": [
        "f.grafico_barras(freq_setor,'Setor','Top 10: Percentual de frequência de Setor','cores_duas_barras',10)"
      ],
      "metadata": {
        "id": "-2UP4f8YOqgv"
      },
      "execution_count": null,
      "outputs": []
    },
    {
      "cell_type": "markdown",
      "source": [
        "Os setores que mais empregam analistas de dados é o de finanças (18.4%) e o de tecnologia (18%)."
      ],
      "metadata": {
        "id": "sCbgXkl-kALe"
      }
    },
    {
      "cell_type": "markdown",
      "source": [
        "#### <font color= MediumSpringGreen> Nível </font>"
      ],
      "metadata": {
        "id": "W3wxvbjGkFJv"
      }
    },
    {
      "cell_type": "code",
      "source": [
        "freq_nivel = f.tabela_frequencia(df_analista_dados_puro,\"('P2_g ', 'Nivel')\")\n",
        "freq_nivel"
      ],
      "metadata": {
        "id": "53-pI37EkGuw"
      },
      "execution_count": null,
      "outputs": []
    },
    {
      "cell_type": "code",
      "source": [
        "f.grafico_barras(freq_nivel,'Nível','Percentual de frequência de Nível','cores_todas_barras',3)"
      ],
      "metadata": {
        "id": "mYLx9SPOPABB"
      },
      "execution_count": null,
      "outputs": []
    },
    {
      "cell_type": "markdown",
      "source": [
        "Os profissional da amostra estavam divididos em 3 grupos de tamanhos iguais (87 participantes) entre Sênior, Pleno e Júnior."
      ],
      "metadata": {
        "id": "v6W2I7F5k_5V"
      }
    },
    {
      "cell_type": "markdown",
      "source": [
        "##### <font color= MediumSpringGreen> Filtro de cargo entre os participantes </font>"
      ],
      "metadata": {
        "id": "IE4RIOldlFyO"
      }
    },
    {
      "cell_type": "code",
      "source": [
        "senior = df_analista_dados_puro[df_analista_dados_puro[\"('P2_g ', 'Nivel')\"] == 'Sênior']\n",
        "pleno = df_analista_dados_puro[df_analista_dados_puro[\"('P2_g ', 'Nivel')\"] == 'Pleno']\n",
        "junior = df_analista_dados_puro[df_analista_dados_puro[\"('P2_g ', 'Nivel')\"] == 'Júnior']"
      ],
      "metadata": {
        "id": "ZguVLqjFlFRi"
      },
      "execution_count": null,
      "outputs": []
    },
    {
      "cell_type": "markdown",
      "source": [
        "#### <font color= MediumSpringGreen> Situação de trabalho </font>"
      ],
      "metadata": {
        "id": "WGzR0t9YkHw2"
      }
    },
    {
      "cell_type": "code",
      "source": [
        "freq_situacao_trabalho = f.tabela_frequencia(df_analista_dados_puro,\"('P2_a ', 'Qual sua situação atual de trabalho?')\")\n",
        "freq_situacao_trabalho"
      ],
      "metadata": {
        "id": "PinQ7XLtkIG-"
      },
      "execution_count": null,
      "outputs": []
    },
    {
      "cell_type": "code",
      "source": [
        "f.grafico_barras(freq_situacao_trabalho,'Situação de trabalho','Percentual de frequência de Nível','cores_uma_barra',6)"
      ],
      "metadata": {
        "id": "bW4qH4gHTRCb"
      },
      "execution_count": null,
      "outputs": []
    },
    {
      "cell_type": "markdown",
      "source": [
        "A maior parte dos profissionais (87.7%) atuam de forma CLT. "
      ],
      "metadata": {
        "id": "j5Z4zQS8lU0p"
      }
    },
    {
      "cell_type": "markdown",
      "source": [
        "#### <font color= MediumSpringGreen> Faixa salarial </font>"
      ],
      "metadata": {
        "id": "-eLNF-pNkLL2"
      }
    },
    {
      "cell_type": "code",
      "source": [
        "freq_faixa_salarial = f.tabela_frequencia(df_analista_dados_puro,\"('P2_h ', 'Faixa salarial')\")\n",
        "freq_faixa_salarial"
      ],
      "metadata": {
        "id": "wna0HIbJkOPt"
      },
      "execution_count": null,
      "outputs": []
    },
    {
      "cell_type": "code",
      "source": [
        "f.grafico_barras(freq_faixa_salarial,'Faixa salarial','Top 10: Percentual de frequência de Faixa Salarial','cores_tres_barras',10)"
      ],
      "metadata": {
        "id": "7nnME6qWTa58"
      },
      "execution_count": null,
      "outputs": []
    },
    {
      "cell_type": "markdown",
      "source": [
        "A faixa salarial geral majoritária do cargo está entre 4 e 12 mil reais."
      ],
      "metadata": {
        "id": "2yOiUaRDlkFg"
      }
    },
    {
      "cell_type": "markdown",
      "source": [
        "##### <font color= MediumSpringGreen> Senior </font>\n",
        "\n",
        "\n"
      ],
      "metadata": {
        "id": "aDnlFixumU1G"
      }
    },
    {
      "cell_type": "code",
      "source": [
        "freq_faixa_salarial_senior = f.tabela_frequencia(senior,\"('P2_h ', 'Faixa salarial')\")\n",
        "freq_faixa_salarial_senior"
      ],
      "metadata": {
        "id": "77xa_gjFmVIk"
      },
      "execution_count": null,
      "outputs": []
    },
    {
      "cell_type": "code",
      "source": [
        "f.grafico_barras(freq_faixa_salarial_senior,'Faixa salarial','Top 10: Percentual de frequência de Faixa Salarial de profissionais Sênior','cores_tres_barras',10)"
      ],
      "metadata": {
        "id": "Px-W0cqvKa9P"
      },
      "execution_count": null,
      "outputs": []
    },
    {
      "cell_type": "markdown",
      "source": [
        "Para o nível Sênior, a faixa está entre 6 e 16 mil reais."
      ],
      "metadata": {
        "id": "hlfZMONSmqwO"
      }
    },
    {
      "cell_type": "markdown",
      "source": [
        "##### <font color= MediumSpringGreen> Pleno </font>\n"
      ],
      "metadata": {
        "id": "X5jhkofHmbya"
      }
    },
    {
      "cell_type": "code",
      "source": [
        "freq_faixa_salarial_pleno = f.tabela_frequencia(pleno,\"('P2_h ', 'Faixa salarial')\")\n",
        "freq_faixa_salarial_pleno"
      ],
      "metadata": {
        "id": "u3ZmFUbZmddO"
      },
      "execution_count": null,
      "outputs": []
    },
    {
      "cell_type": "code",
      "source": [
        "f.grafico_barras(freq_faixa_salarial_pleno,'Faixa salarial','Top 10: Percentual de frequência de Faixa Salarial de profissionais Pleno','cores_tres_barras',10)"
      ],
      "metadata": {
        "id": "KylPk55eKr5D"
      },
      "execution_count": null,
      "outputs": []
    },
    {
      "cell_type": "markdown",
      "source": [
        "Para o nível Pleno, a faixa está entre 4 e 8 mil reais."
      ],
      "metadata": {
        "id": "Rkjo44RPmzPt"
      }
    },
    {
      "cell_type": "markdown",
      "source": [
        "##### <font color= MediumSpringGreen> Júnior </font>\n"
      ],
      "metadata": {
        "id": "JrnPXHrnmd5l"
      }
    },
    {
      "cell_type": "code",
      "source": [
        "freq_faixa_salarial_junior = f.tabela_frequencia(junior,\"('P2_h ', 'Faixa salarial')\")\n",
        "freq_faixa_salarial_junior"
      ],
      "metadata": {
        "id": "YywtPTKNmfLG"
      },
      "execution_count": null,
      "outputs": []
    },
    {
      "cell_type": "code",
      "source": [
        "f.grafico_barras(freq_faixa_salarial_junior,'Faixa salarial','Top 10: Percentual de frequência de Faixa Salarial de profissionais Júnior','cores_tres_barras',10)"
      ],
      "metadata": {
        "id": "fjkPZp_QK1sl"
      },
      "execution_count": null,
      "outputs": []
    },
    {
      "cell_type": "markdown",
      "source": [
        "Para o nível Pleno, a faixa está entre 2 e 4 mil reais."
      ],
      "metadata": {
        "id": "KqHqShhLnAHw"
      }
    },
    {
      "cell_type": "markdown",
      "source": [
        "#### <font color= MediumSpringGreen> Tempo de experiência </font>"
      ],
      "metadata": {
        "id": "g4-E19JckOfO"
      }
    },
    {
      "cell_type": "code",
      "source": [
        "freq_tempo_experiencia_TI = f.tabela_frequencia(df_analista_dados_puro,\n",
        "                                              \"('P2_j ', 'Quanto tempo de experiência na área de TI/Engenharia de Software você teve antes de começar a trabalhar na área de dados?')\")\n",
        "freq_tempo_experiencia_TI"
      ],
      "metadata": {
        "id": "fhQrTSZAkSWO"
      },
      "execution_count": null,
      "outputs": []
    },
    {
      "cell_type": "code",
      "source": [
        "#Ajuste na informação para deixá-la mais objetiva\n",
        "freq_tempo_experiencia_TI.iloc[:,0] = freq_tempo_experiencia_TI.iloc[:,0].replace('Não tive experiência na área de TI/Engenharia de Software antes de começar a trabalhar na área de dados',\n",
        "                                            'Não tive experiência na área')"
      ],
      "metadata": {
        "id": "0P8cHD_QLySq"
      },
      "execution_count": null,
      "outputs": []
    },
    {
      "cell_type": "code",
      "source": [
        "f.grafico_barras(freq_tempo_experiencia_TI,'Tempo de experiência',\n",
        "               'Percentual de frequência do tempo de experiência na área de <br>TI/Engenharia de software antes de começar a trabalhar na área de dados',\n",
        "               'cores_duas_barras',7)"
      ],
      "metadata": {
        "id": "v9IuDovBLOY7"
      },
      "execution_count": null,
      "outputs": []
    },
    {
      "cell_type": "markdown",
      "source": [
        "Mais da metade dos profissionais não tiveram uma experiência na área de tecnologia antes de atuar no cargo.\n"
      ],
      "metadata": {
        "id": "Gj1MMtEsngX7"
      }
    },
    {
      "cell_type": "code",
      "source": [
        "freq_tempo_experiencia_dados = f.tabela_frequencia(df_analista_dados_puro,\"('P2_i ', 'Quanto tempo de experiência na área de dados você tem?')\")\n",
        "freq_tempo_experiencia_dados"
      ],
      "metadata": {
        "id": "TLzFUDL_nmdy"
      },
      "execution_count": null,
      "outputs": []
    },
    {
      "cell_type": "code",
      "source": [
        "f.grafico_barras(freq_tempo_experiencia_dados,'Tempo de experiência',\n",
        "               'Percentual de frequência do tempo de experiência na área de dados',\n",
        "               'cores_tres_barras',7)"
      ],
      "metadata": {
        "id": "pOEtn-IcMUFw"
      },
      "execution_count": null,
      "outputs": []
    },
    {
      "cell_type": "markdown",
      "source": [
        "Devido a aceleração do crescimento na área de dados dos últimos 5-10 anos, a maior parte dos profissionais tem entre 0 e 5 anos de experiência."
      ],
      "metadata": {
        "id": "_rZlkqXDvuRB"
      }
    },
    {
      "cell_type": "markdown",
      "source": [
        "\n",
        "Por ser uma área de dados ainda muito próxima do negócio, pode ser uma porta de entrada para os profissionais que desejam \"migrar\" ou apenas estarem mais próximos da tecnologia."
      ],
      "metadata": {
        "id": "dh-OzISIvwov"
      }
    },
    {
      "cell_type": "markdown",
      "source": [
        "#### <font color= MediumSpringGreen> Ferramentas </font>"
      ],
      "metadata": {
        "id": "KveQD0k4kSkd"
      }
    },
    {
      "cell_type": "markdown",
      "source": [
        "##### <font color= MediumSpringGreen> **Quais das fontes de dados listadas você já analisou ou processou no trabalho?** </font>"
      ],
      "metadata": {
        "id": "MDIMKwEvwHFO"
      }
    },
    {
      "cell_type": "code",
      "source": [
        "freq_fontes_dados = f.percentual_colunas_multiplas_respostas(df_analista_dados_puro,[11,12,13,14,15,16,17,18],'fontes_dados')\n",
        "freq_fontes_dados"
      ],
      "metadata": {
        "id": "FOJb_FjGkXs1"
      },
      "execution_count": null,
      "outputs": []
    },
    {
      "cell_type": "code",
      "source": [
        "f.grafico_barras(freq_fontes_dados,'Fontes de dados',\n",
        "               'Percentual de frequência das fontes de dados já analisadas',\n",
        "               'cores_duas_barras',8)"
      ],
      "metadata": {
        "id": "6b1sx_EqMnPF"
      },
      "execution_count": null,
      "outputs": []
    },
    {
      "cell_type": "markdown",
      "source": [
        "##### <font color= MediumSpringGreen> **Entre as fontes de dados listadas, quais você utiliza na maior parte do tempo?** </font>"
      ],
      "metadata": {
        "id": "hRphUDL8w_1r"
      }
    },
    {
      "cell_type": "code",
      "source": [
        "freq_fontes_dados_mais_utilizadas = f.percentual_colunas_multiplas_respostas(df_analista_dados_puro,[20,21,22,23,24,25,26,27],'fontes_dados_mais_utilizadas')\n",
        "freq_fontes_dados_mais_utilizadas"
      ],
      "metadata": {
        "id": "AktY_8AjxFOw"
      },
      "execution_count": null,
      "outputs": []
    },
    {
      "cell_type": "code",
      "source": [
        "f.grafico_barras(freq_fontes_dados_mais_utilizadas,'Fontes de dados',\n",
        "               'Percentual de frequência das fontes de dados mais utilizadas',\n",
        "               'cores_duas_barras',5)"
      ],
      "metadata": {
        "id": "xq0aRrMNOc4c"
      },
      "execution_count": null,
      "outputs": []
    },
    {
      "cell_type": "markdown",
      "source": [
        "Dentre as fontes processadas e mais utilizadas pelos profissionais estão as planilhas e os bancos de dados relacionais (SQL). Por se tratarem de profissionais que atuem com informações mais estruturadas é esperado esse resultado."
      ],
      "metadata": {
        "id": "yhqX5qYxwukK"
      }
    },
    {
      "cell_type": "markdown",
      "source": [
        "##### <font color= MediumSpringGreen> **Quais das linguagens listadas abaixo você utiliza no trabalho?**\n",
        " </font>"
      ],
      "metadata": {
        "id": "7-QTwc9XxhHA"
      }
    },
    {
      "cell_type": "code",
      "source": [
        "freq_fontes_linguagens_utilizadas = f.percentual_colunas_multiplas_respostas(df_analista_dados_puro,[29,30,31,32,33,34,35,36,37,38,39,40,41,42],'linguagens_mais_utilizadas')\n",
        "freq_fontes_linguagens_utilizadas"
      ],
      "metadata": {
        "id": "5ud7WQ5cxwL4"
      },
      "execution_count": null,
      "outputs": []
    },
    {
      "cell_type": "code",
      "source": [
        "f.grafico_barras(freq_fontes_linguagens_utilizadas,'Linguagens utilizadas',\n",
        "               'Percentual de frequência das linguagens utilizadas',\n",
        "               'cores_duas_barras',13)"
      ],
      "metadata": {
        "id": "bD_C17BIKN7Q"
      },
      "execution_count": null,
      "outputs": []
    },
    {
      "cell_type": "markdown",
      "source": [
        "##### <font color= MediumSpringGreen> **Entre as linguagens listadas abaixo, qual é a que você mais utiliza no trabalho?**\n",
        " </font>"
      ],
      "metadata": {
        "id": "qScwGRWhx9TG"
      }
    },
    {
      "cell_type": "code",
      "source": [
        "freq_fontes_linguagens_mais_utilizadas = f.percentual_colunas_multiplas_respostas(df_analista_dados_puro,[44,45,46,47,48,49,50,51,52,53,54,55,56,57],'linguagens_mais_utilizadas')\n",
        "freq_fontes_linguagens_mais_utilizadas"
      ],
      "metadata": {
        "id": "HTl1yDn4yIfd"
      },
      "execution_count": null,
      "outputs": []
    },
    {
      "cell_type": "code",
      "source": [
        "f.grafico_barras(freq_fontes_linguagens_mais_utilizadas,'Linguagens mais utilizadas',\n",
        "               'Percentual de frequência das linguagens mais utilizadas',\n",
        "               'cores_duas_barras',7)"
      ],
      "metadata": {
        "id": "-FdYK8hKO2_T"
      },
      "execution_count": null,
      "outputs": []
    },
    {
      "cell_type": "markdown",
      "source": [
        "Dentre as linguagens, lideram o SQL e Python, mas R, VBA ou mesmo a não utilização de linguagens de programação estão entre as próximas."
      ],
      "metadata": {
        "id": "0RuxsJp0x4kX"
      }
    },
    {
      "cell_type": "markdown",
      "source": [
        "##### <font color= MediumSpringGreen> **Quais dos bancos de dados/fontes de dados listados abaixo você utiliza no trabalho?**\n",
        " </font>"
      ],
      "metadata": {
        "id": "Wda7ebfly5Yq"
      }
    },
    {
      "cell_type": "code",
      "source": [
        "freq_banco_dados_utilizadas = f.percentual_colunas_multiplas_respostas(df_analista_dados_puro,\n",
        "                                                                                [59,60,61,62,63,64,65,66,67,68,69,70,71,72,73,74,75,76,77,78,79,80,81,82,83,84,85,86,87,88,89,90,91,92],\n",
        "                                                                                'SGBD')\n",
        "freq_banco_dados_utilizadas"
      ],
      "metadata": {
        "id": "lC3IfVWcy9nf"
      },
      "execution_count": null,
      "outputs": []
    },
    {
      "cell_type": "code",
      "source": [
        "f.grafico_barras(freq_banco_dados_utilizadas,\"SGBD's utilizados\",\n",
        "               \"Top 10: Percentual de frequência dos SGBD's utilizadas\",\n",
        "               'cores_duas_barras',10)"
      ],
      "metadata": {
        "id": "bvNu-tcyP707"
      },
      "execution_count": null,
      "outputs": []
    },
    {
      "cell_type": "markdown",
      "source": [
        "O banco de dados com maior uso entre os profissionais é o SQL Server.\n",
        "\n",
        "Esse pode ser um sinal de que profissionais que queiram entrar no mercado, conheçam a ferramenta para aumentar a probabilidade de oportunidades."
      ],
      "metadata": {
        "id": "FgnyXpGZze6A"
      }
    },
    {
      "cell_type": "markdown",
      "source": [
        "##### <font color= MediumSpringGreen> **Quais das opções de Cloud listadas abaixo você utiliza no trabalho?**\n",
        " </font>"
      ],
      "metadata": {
        "id": "RJfiF-zgzjx3"
      }
    },
    {
      "cell_type": "code",
      "source": [
        "freq_cloud_utilizada = f.percentual_colunas_multiplas_respostas(df_analista_dados_puro,[94,95,96,97,98,99,100],'cloud')\n",
        "freq_cloud_utilizada"
      ],
      "metadata": {
        "id": "MThaSQdOzq9f"
      },
      "execution_count": null,
      "outputs": []
    },
    {
      "cell_type": "code",
      "source": [
        "f.grafico_barras(freq_cloud_utilizada,\"Opções de Cloud\",\n",
        "               \"Percentual de frequência das opções de Cloud utilizadas\",\n",
        "               'cores_uma_barra',7)"
      ],
      "metadata": {
        "id": "zqPBQdSzQcwT"
      },
      "execution_count": null,
      "outputs": []
    },
    {
      "cell_type": "markdown",
      "source": [
        "A AWS é a opção de Cloud mais utilizada, entretanto há uma grande fatia para a Azure, Google Cloud e empresas que não utilizam Cloud."
      ],
      "metadata": {
        "id": "zVmWkSSG0Ojc"
      }
    },
    {
      "cell_type": "markdown",
      "source": [
        "##### <font color= MediumSpringGreen> **Quais as Ferramentas de Business Intelligence você utiliza no trabalho?**\n",
        " </font>"
      ],
      "metadata": {
        "id": "kYryUPZi0BTk"
      }
    },
    {
      "cell_type": "code",
      "source": [
        "freq_BI = f.percentual_colunas_multiplas_respostas(df_analista_dados_puro,\n",
        "                                       [102,103,104,105,106,107,113,114,115,116,117,118,119,120,121,122,123,124,125,126,127,128,129],'software_BI')\n",
        "freq_BI"
      ],
      "metadata": {
        "id": "vAIOJWIx0FMz"
      },
      "execution_count": null,
      "outputs": []
    },
    {
      "cell_type": "code",
      "source": [
        "f.grafico_barras(freq_BI,\"Ferramentas de BI\",\n",
        "               \"Top 10: Percentual de frequência das ferramentas de BI utilizadas\",\n",
        "               'cores_uma_barra',10)"
      ],
      "metadata": {
        "id": "fvq2Bz8bSotX"
      },
      "execution_count": null,
      "outputs": []
    },
    {
      "cell_type": "markdown",
      "source": [
        "O Power BI é a ferramenta que lidera entre os analistas de dados e pode ser uma boa opção de entrada para quem deseja entrar no mercado."
      ],
      "metadata": {
        "id": "16v32hWvS3jX"
      }
    },
    {
      "cell_type": "markdown",
      "source": [
        "##### <font color= MediumSpringGreen> **Quais as ferramentas/tecnologias de ETL que você utiliza no trabalho como Data Analyst?**\n",
        " </font>"
      ],
      "metadata": {
        "id": "XkeZ1QwE1Dg4"
      }
    },
    {
      "cell_type": "code",
      "source": [
        "freq_ETL = f.percentual_colunas_multiplas_respostas(df_analista_dados_puro,\n",
        "                                                  [140,141,142,143,144,145,146,147,148,149,150,151,152,153,154,160,161],\n",
        "                                                  'sofware_ETL')\n",
        "freq_ETL"
      ],
      "metadata": {
        "id": "2BT1JyWq1PK_"
      },
      "execution_count": null,
      "outputs": []
    },
    {
      "cell_type": "code",
      "source": [
        "f.grafico_barras(freq_ETL,\"Ferramentas de ETL\",\n",
        "               \"Top 10: Percentual de frequência das ferramentas de ETL utilizadas\",\n",
        "               'cores_duas_barras',10)"
      ],
      "metadata": {
        "id": "XOtKbpupTmrn"
      },
      "execution_count": null,
      "outputs": []
    },
    {
      "cell_type": "markdown",
      "source": [
        "Analistas de dados utilizam em sua maior parte scripts em Python e Store Procedures (SQL) como forma de ETL em seu dia-a-dia."
      ],
      "metadata": {
        "id": "Csgi0tjy1fVN"
      }
    },
    {
      "cell_type": "markdown",
      "source": [
        "##### <font color= MediumSpringGreen> **Sua empresa utiliza alguma das ferramentas listadas para dar mais autonomia em análise de dados para as áreas de negócio?**\n",
        " </font>"
      ],
      "metadata": {
        "id": "NnzaVGVZ1ian"
      }
    },
    {
      "cell_type": "code",
      "source": [
        "freq_software_otimizacao = f.percentual_colunas_multiplas_respostas(df_analista_dados_puro,[163,164,165,166,167,168],\n",
        "                                                                  'software')\n",
        "#Ajuste para deixar a informação mais objetiva\n",
        "freq_software_otimizacao['software'] = freq_software_otimizacao['software'].replace('Ferramentas de análise dentro de ferramentas de CRM como Salesforce Einstein Anaytics ou Zendesk dashboards.',\n",
        "                                             'Salesforce Einstein Anaytics ou Zendesk dashboards.')\n",
        "freq_software_otimizacao"
      ],
      "metadata": {
        "id": "qCrekiyC1mhl"
      },
      "execution_count": null,
      "outputs": []
    },
    {
      "cell_type": "code",
      "source": [
        "f.grafico_barras(freq_software_otimizacao,\"Respostas\",\n",
        "               \"Percentual de frequência das ferramentas de autonomia em análise de dados <br>para as áreas de negócios\",\n",
        "               'cores_duas_barras',6)"
      ],
      "metadata": {
        "id": "Ypevf8jiUVbV"
      },
      "execution_count": null,
      "outputs": []
    },
    {
      "cell_type": "markdown",
      "source": [
        "A maior parte das empresas ainda não utilizam ferramentas de otimização de análise de dados."
      ],
      "metadata": {
        "id": "9yRzF8NC1oFH"
      }
    },
    {
      "cell_type": "markdown",
      "source": [
        "#### <font color= MediumSpringGreen> Rotina de trabalho </font>"
      ],
      "metadata": {
        "id": "lso5vvlykX-F"
      }
    },
    {
      "cell_type": "markdown",
      "source": [
        "##### <font color= MediumSpringGreen> **Quais das opções abaixo fazem parte da sua rotina no trabalho atual com análise de dados?**\n",
        " </font>"
      ],
      "metadata": {
        "id": "OL4GoisL-Fo9"
      }
    },
    {
      "cell_type": "code",
      "source": [
        "freq_rotina = f.percentual_colunas_multiplas_respostas(df_analista_dados_puro,[131,132,133,134,135,136,137,138],\n",
        "                                                     'rotina')\n",
        "freq_rotina"
      ],
      "metadata": {
        "id": "B6B4UOGzkcFl"
      },
      "execution_count": null,
      "outputs": []
    },
    {
      "cell_type": "code",
      "source": [
        "f.grafico_barras(freq_rotina,\"Atividades\",\n",
        "               \"Percentual de frequência das atividades da rotina de trabalho\",\n",
        "               'cores_duas_barras',6)"
      ],
      "metadata": {
        "id": "z6i2XBuFVyY_"
      },
      "execution_count": null,
      "outputs": []
    },
    {
      "cell_type": "markdown",
      "source": [
        "##### <font color= MediumSpringGreen> **Em qual das opções abaixo você gasta a maior parte do seu tempo de trabalho?**\n",
        " </font>"
      ],
      "metadata": {
        "id": "4r3WYDFk_BiR"
      }
    },
    {
      "cell_type": "code",
      "source": [
        "freq_tempo = f.percentual_colunas_multiplas_respostas(df_analista_dados_puro,[170,171,172,173,174,175,176,177],\n",
        "                                                    'atividade')\n",
        "freq_tempo"
      ],
      "metadata": {
        "id": "vN1qhV85_M1R"
      },
      "execution_count": null,
      "outputs": []
    },
    {
      "cell_type": "code",
      "source": [
        "f.grafico_barras(freq_tempo,\"Atividade\",\n",
        "               \"Percentual de frequência das atividades onde se gasta a maior parte do tempo\",\n",
        "               'cores_duas_barras',8)"
      ],
      "metadata": {
        "id": "jeXzLqUUWoLd"
      },
      "execution_count": null,
      "outputs": []
    },
    {
      "cell_type": "markdown",
      "source": [
        "A rotina de um analista de dados é em sua maior parte, desenvolver Dashboards, processar e analisar dados, desenvolver e dar manutenção a planilhas das áreas de negócios e realizar estudos estatísticos para validar experimentos e hipóteses das análises."
      ],
      "metadata": {
        "id": "RIybDE_d_Irw"
      }
    },
    {
      "cell_type": "markdown",
      "source": [
        "## <font color= MediumSpringGreen> Considerações finais </font>"
      ],
      "metadata": {
        "id": "RY1vqYHDkcYF"
      }
    },
    {
      "cell_type": "markdown",
      "source": [
        "O profissional analista de dados é um importante interlecutor entre a área de negócio e a área de dados, sempre buscando trazer mais valor para o negócio através dos dados.\n",
        "\n",
        "Com uma média salarial entre 4 e 12mil reais esses profissionais em sua maioria, utilizam SQL e Python como linguagens de programação, Power BI como ferramenta de BI, SQL Server como SGBD de banco de dados, AWS como ferramenta de cloud e atuam na construção de dashboards, processamento e análise de dados, manutenção de planilhas, estudos e experimentos, utilização de API's, modelagem de dados e processamento de ETL's.\n",
        "\n",
        "Pode ser uma \"porta de entrada\" para profissionais que desejam entrar/migrar para a área de dados, devido a relevância que o \"conhecimento do negócio\" tem para a análise dos dados. \n",
        "Também a dedução de que haja um maior volume de vagas, devido a maior parte das empresas ainda não terem uma maturidade analítica para formar equipes com cientistas de dados, engenheiros de ML etc. \n",
        "\n",
        "Entretanto não é uma área apenas de entrada, mas sim uma carreira de atuação muito relevante para o ecossistema de uma empresa e que provavelmente sempre será necessário essa \"posição\" com um olhar mais analítico sobre os negócios da empresa.\n"
      ],
      "metadata": {
        "id": "4KJvHTVX_f52"
      }
    }
  ]
}